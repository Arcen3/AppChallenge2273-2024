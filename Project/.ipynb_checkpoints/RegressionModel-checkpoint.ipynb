{
 "cells": [
  {
   "cell_type": "code",
   "execution_count": 140,
   "id": "0a9f39c0-cdbc-4e82-923d-f60a1823a846",
   "metadata": {},
   "outputs": [],
   "source": [
    "import numpy as np\n",
    "import matplotlib.pyplot as plt\n",
    "from scipy.optimize import curve_fit\n",
    "import sys"
   ]
  },
  {
   "cell_type": "code",
   "execution_count": 166,
   "id": "b3c513dc-e72c-43b6-ac54-4806f4290ebf",
   "metadata": {},
   "outputs": [],
   "source": [
    "def hill_eqn(c,K,n): #c concentration, K constant, n Hill coefficient\n",
    "    lnc = np.log(c)\n",
    "    x = K*np.exp(-n*lnc)\n",
    "    E = 1/(1+x)\n",
    "    return E #E is effect\n",
    "\n",
    "def dEdn(c,K,n):\n",
    "    a = n * np.log(c)\n",
    "    b = K * np.exp(-a)\n",
    "    bi = b**2\n",
    "    # print(bi,b)\n",
    "    result = (b * np.log(c))/bi\n",
    "    return result\n",
    "\n",
    "def dEdK(c,K,n):\n",
    "    a = -n * np.log(c)\n",
    "    A = np.exp(a)\n",
    "    b = (1+K*A)**2\n",
    "    result = (-A)/b\n",
    "    return result\n",
    "\n",
    "def mse(c,K,n,E_actual):\n",
    "    b = 2/len(c)\n",
    "    a = hill_eqn(c,K,n) - E_actual\n",
    "    diff1 = np.sum(a*dEdK(c,K,n))\n",
    "    diff1*=b\n",
    "    diff2 = np.sum(a*dEdn(c,K,n))\n",
    "    diff2*=b\n",
    "    return diff1, diff2\n",
    "\n",
    "def logistics(c,K,n,E_actual):\n",
    "    b = 1/len(c)\n",
    "    yp = hill_eqn(c,K,n)\n",
    "    x = E_actual/yp\n",
    "    x1 = (1-E_actual)/(1-yp)\n",
    "    # print(x,x1,sep='\\n')\n",
    "    \n",
    "    der_K = dEdK(c,K,n)\n",
    "    der_n = dEdn(c,K,n)\n",
    "    # print(np.sum(x1*der_K),np.sum(x * der_K),np.sum(x * der_K - x1 * der_K),b)\n",
    "    # print(np.sum(x1*der_n),np.sum(x * der_n),np.sum(x * der_n - x1 * der_K),b)\n",
    "    # print(np.sum(der_n))\n",
    "    diff1 = b * np.sum(x * der_K - x1 * der_K)\n",
    "    diff2 = b * np.sum(x * der_n - x1 * der_n)\n",
    "    # print(f\"K: {K}, n: {n}, yp: {yp}, x: {x}, x1: {x1}, diff1: {diff1}, diff2: {diff2}\")\n",
    "    return diff1, diff2\n",
    "    \n",
    "def gradientDescent(Ki:float, ni:float, E_actual, c, max_iter:int, tol:float = 1e-4, lr:float = 1e-6): #Ki and ni are initial guesses\n",
    "    # steps = []\n",
    "    K = Ki\n",
    "    n = ni\n",
    "    for i in range(max_iter):\n",
    "        diff1, diff2 = logistics(c,K,n,E_actual)\n",
    "        diff1*= -lr\n",
    "        diff2*= -lr\n",
    "        # print(i,diff1,K,diff2,n, sep = '\\t')\n",
    "        # print(i, '\\n')\n",
    "        if abs(diff1) < tol and abs(diff2) < tol:\n",
    "            break\n",
    "        else:\n",
    "            K-=diff1\n",
    "            n-=diff2\n",
    "    # print('i', 'diff1', 'diff2', sep = '\\t')\n",
    "    # print(i, diff1, diff2, sep = '\\t')\n",
    "    return K, n, i\n",
    "\n",
    "def tol_test():\n",
    "    tol = [1e-5,1e-4,1e-3,1e-2] #is there a way to generate this\n",
    "    #will need to call gradient descent multiple times to get data on lowest mse\n",
    "    return tol_best"
   ]
  },
  {
   "cell_type": "code",
   "execution_count": 173,
   "id": "b25589ed-3f7d-49b9-bd3f-4eee53e1fc1b",
   "metadata": {},
   "outputs": [],
   "source": [
    "#confirmation that the hill equation is modelled correctly here\n",
    "drugconc = np.arange(1e-4,100, 1e-2)\n",
    "ln_drugconc = np.log(drugconc)\n",
    "effect = hill_eqn(drugconc, 3, 2)"
   ]
  },
  {
   "cell_type": "code",
   "execution_count": 176,
   "id": "15492375-cae1-4850-b3ef-e412b8ae5a64",
   "metadata": {},
   "outputs": [
    {
     "name": "stdout",
     "output_type": "stream",
     "text": [
      "1.9525519416734725 2.4999999125351264 31\n"
     ]
    },
    {
     "data": {
      "image/png": "[encoded data removed]",
      "text/plain": [
       "<Figure size 640x480 with 1 Axes>"
      ]
     },
     "metadata": {},
     "output_type": "display_data"
    }
   ],
   "source": [
    "#try out regression model\n",
    "ni = 1.7\n",
    "Ki = 2.5\n",
    "#K is not changing and breaks the equation if too small\n",
    "drugconc = np.arange(1e-4,100, 1e-2)\n",
    "#normalise input\n",
    "drugconc_normalised = drugconc/max(drugconc)\n",
    "\n",
    "Kp,n_p, i = gradientDescent(Ki = Ki, ni = ni, E_actual = effect, tol = 1e-3, lr = 1e-5, c = drugconc, max_iter = 1000)\n",
    "print(n_p, Kp, i)\n",
    "predicted_relation = hill_eqn(drugconc, Kp, n_p)\n",
    "plt.plot(ln_drugconc, predicted_relation)\n",
    "\n",
    "# Kp,n_p = gradientDescent(Ki = Ki, ni = ni, E_actual = effect, tol = 1e-3, lr = 1e-2, c = drugconc_normalised, max_iter = 1000)\n",
    "# predicted_relation = hill_eqn(drugconc, Kp, n_p)\n",
    "# print(n_p, Kp)\n",
    "# plt.plot(ln_drugconc, predicted_relation,color = 'r')\n",
    "\n",
    "plt.plot(ln_drugconc, effect, '.')\n",
    "plt.show()"
   ]
  },
  {
   "cell_type": "code",
   "execution_count": 172,
   "id": "09cd2059-3b8f-4eef-acda-3f85cb2aa391",
   "metadata": {},
   "outputs": [
    {
     "name": "stdout",
     "output_type": "stream",
     "text": [
      "[2. 2.]\n"
     ]
    }
   ],
   "source": [
    "popt, pcov = curve_fit(hill_eqn, drugconc, effect, p0 = (Ki, ni))\n",
    "print(popt)"
   ]
  },
  {
   "cell_type": "code",
   "execution_count": 167,
   "id": "07db7bbc-8b76-4e3b-9643-d52a23760723",
   "metadata": {},
   "outputs": [
    {
     "name": "stdout",
     "output_type": "stream",
     "text": [
      "0 0.1\n"
     ]
    },
    {
     "name": "stderr",
     "output_type": "stream",
     "text": [
      "C:\\Users\\Admin\\AppData\\Local\\Temp\\ipykernel_20528\\2021589638.py:35: RuntimeWarning: divide by zero encountered in divide\n",
      "  x1 = (1-E_actual)/(1-yp)\n",
      "C:\\Users\\Admin\\AppData\\Local\\Temp\\ipykernel_20528\\2021589638.py:12: RuntimeWarning: divide by zero encountered in divide\n",
      "  result = (b * np.log(c))/bi\n",
      "C:\\Users\\Admin\\AppData\\Local\\Temp\\ipykernel_20528\\2021589638.py:44: RuntimeWarning: invalid value encountered in subtract\n",
      "  diff2 = b * np.sum(x * der_n - x1 * der_n)\n"
     ]
    },
    {
     "name": "stdout",
     "output_type": "stream",
     "text": [
      "nan nan\n",
      "1 0.2\n"
     ]
    },
    {
     "name": "stderr",
     "output_type": "stream",
     "text": [
      "C:\\Users\\Admin\\AppData\\Local\\Temp\\ipykernel_20528\\2021589638.py:3: RuntimeWarning: invalid value encountered in multiply\n",
      "  x = K*np.exp(-n*lnc)\n",
      "C:\\Users\\Admin\\AppData\\Local\\Temp\\ipykernel_20528\\2021589638.py:34: RuntimeWarning: divide by zero encountered in divide\n",
      "  x = E_actual/yp\n",
      "C:\\Users\\Admin\\AppData\\Local\\Temp\\ipykernel_20528\\2021589638.py:18: RuntimeWarning: invalid value encountered in multiply\n",
      "  b = (1+K*A)**2\n",
      "C:\\Users\\Admin\\AppData\\Local\\Temp\\ipykernel_20528\\2021589638.py:19: RuntimeWarning: invalid value encountered in divide\n",
      "  result = (-A)/b\n",
      "C:\\Users\\Admin\\AppData\\Local\\Temp\\ipykernel_20528\\2021589638.py:9: RuntimeWarning: invalid value encountered in multiply\n",
      "  b = K * np.exp(-a)\n",
      "C:\\Users\\Admin\\AppData\\Local\\Temp\\ipykernel_20528\\2021589638.py:12: RuntimeWarning: invalid value encountered in divide\n",
      "  result = (b * np.log(c))/bi\n"
     ]
    },
    {
     "name": "stdout",
     "output_type": "stream",
     "text": [
      "nan nan\n",
      "2 0.30000000000000004\n",
      "nan nan\n",
      "3 0.4\n"
     ]
    },
    {
     "name": "stderr",
     "output_type": "stream",
     "text": [
      "C:\\Users\\Admin\\AppData\\Local\\Temp\\ipykernel_20528\\2021589638.py:3: RuntimeWarning: overflow encountered in exp\n",
      "  x = K*np.exp(-n*lnc)\n",
      "C:\\Users\\Admin\\AppData\\Local\\Temp\\ipykernel_20528\\2021589638.py:17: RuntimeWarning: overflow encountered in exp\n",
      "  A = np.exp(a)\n",
      "C:\\Users\\Admin\\AppData\\Local\\Temp\\ipykernel_20528\\2021589638.py:9: RuntimeWarning: overflow encountered in exp\n",
      "  b = K * np.exp(-a)\n",
      "C:\\Users\\Admin\\AppData\\Local\\Temp\\ipykernel_20528\\2021589638.py:43: RuntimeWarning: invalid value encountered in multiply\n",
      "  diff1 = b * np.sum(x * der_K - x1 * der_K)\n"
     ]
    },
    {
     "name": "stdout",
     "output_type": "stream",
     "text": [
      "nan nan\n",
      "4 0.5\n"
     ]
    },
    {
     "name": "stderr",
     "output_type": "stream",
     "text": [
      "C:\\Users\\Admin\\AppData\\Local\\Temp\\ipykernel_20528\\2021589638.py:18: RuntimeWarning: overflow encountered in square\n",
      "  b = (1+K*A)**2\n",
      "C:\\Users\\Admin\\AppData\\Local\\Temp\\ipykernel_20528\\2021589638.py:10: RuntimeWarning: overflow encountered in square\n",
      "  bi = b**2\n"
     ]
    },
    {
     "name": "stdout",
     "output_type": "stream",
     "text": [
      "nan nan\n",
      "5 0.6\n",
      "-0.4280463151489011 0.6000005377547\n",
      "6 0.7000000000000001\n",
      "0.14434820966412176 0.7000004424545001\n",
      "7 0.8\n",
      "0.514935346694642 0.8000003719474625\n",
      "8 0.9\n",
      "0.7683794123380889 0.9000003178203665\n",
      "9 1.0\n",
      "0.9492167290632634 1.0000002750605919\n",
      "10 1.1\n",
      "1.0826833364403337 1.1000002404995863\n",
      "11 1.2000000000000002\n",
      "1.115806068579352 1.200002028130763\n",
      "12 1.3000000000000003\n",
      "1.135367017143175 1.3000024303711706\n",
      "13 1.4000000000000001\n",
      "1.1531713818463287 1.4000022748666303\n",
      "14 1.5000000000000002\n",
      "1.1689594759242425 1.5000019547336052\n",
      "15 1.6\n",
      "1.1845111086299838 1.6000015960327172\n",
      "16 1.7000000000000002\n",
      "1.1985574043129956 1.7000012474334298\n",
      "17 1.8000000000000003\n",
      "1.2124727176453907 1.8000009340537222\n",
      "18 1.9000000000000001\n",
      "1.2244702494334354 1.9000006356856347\n",
      "19 2.0\n",
      "1.2366978235641337 2.000000381966128\n",
      "20 2.1\n",
      "1.2482590262034399 2.100000156320644\n",
      "21 2.2\n",
      "1.2592321575053027 2.1999999556399783\n",
      "22 2.3000000000000003\n",
      "1.2696796097348049 2.2999997769555853\n",
      "23 2.4000000000000004\n",
      "1.2796525899427291 2.3999996175758977\n",
      "24 2.5000000000000004\n",
      "1.2891940649904179 2.4999994751212498\n",
      "25 2.6\n",
      "1.2983407020556499 2.5999993475145087\n",
      "26 2.7\n",
      "1.307124208494979 2.6999992329539597\n",
      "27 2.8000000000000003\n",
      "1.3155722940939898 2.799999129880849\n",
      "28 2.9000000000000004\n",
      "1.3237093852371484 2.899999036947172\n"
     ]
    }
   ],
   "source": [
    "k_test = np.arange(0.1,3,0.1)\n",
    "for i,Ki in enumerate(k_test):\n",
    "    print(i, Ki)\n",
    "    Kp,n_p, j = gradientDescent(Ki = Ki, ni = ni, E_actual = effect, tol = 1e-3, lr = 1e-5, c = drugconc, max_iter = 1000)\n",
    "    print(n_p, Kp)"
   ]
  },
  {
   "cell_type": "code",
   "execution_count": 155,
   "id": "0a08f03f-1f86-4ee9-9471-830e1a054c98",
   "metadata": {},
   "outputs": [
    {
     "name": "stdout",
     "output_type": "stream",
     "text": [
      "-2096.6873038422036 -182.68902537950459 1913.9982784626995 0.0001\n",
      "3510155656.806996 82841257.04259214 82843353.72989598 0.0001\n",
      "84092121.36373654\n",
      "0.19139982784626997 -342731.43997644045\n"
     ]
    }
   ],
   "source": [
    "np.set_printoptions(threshold=sys.maxsize)\n",
    "a,b = logistics(c=drugconc,K=0.2,n=1.5,E_actual=effect)\n",
    "print(a,b)\n",
    "np.set_printoptions(threshold = False)"
   ]
  },
  {
   "cell_type": "code",
   "execution_count": null,
   "id": "11e18503-1c3d-4da6-9d0f-c50ecdb9ebd2",
   "metadata": {},
   "outputs": [],
   "source": []
  }
 ],
 "metadata": {
  "kernelspec": {
   "display_name": "Python 3 (ipykernel)",
   "language": "python",
   "name": "python3"
  },
  "language_info": {
   "codemirror_mode": {
    "name": "ipython",
    "version": 3
   },
   "file_extension": ".py",
   "mimetype": "text/x-python",
   "name": "python",
   "nbconvert_exporter": "python",
   "pygments_lexer": "ipython3",
   "version": "3.12.3"
  }
 },
 "nbformat": 4,
 "nbformat_minor": 5
}
